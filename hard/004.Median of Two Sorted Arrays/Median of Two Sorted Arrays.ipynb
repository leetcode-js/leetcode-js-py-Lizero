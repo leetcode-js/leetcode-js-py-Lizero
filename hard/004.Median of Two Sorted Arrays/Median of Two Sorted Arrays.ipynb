{
 "cells": [
  {
   "cell_type": "code",
   "execution_count": 92,
   "metadata": {},
   "outputs": [],
   "source": [
    "from typing import List\n",
    "\n",
    "def findMedianSortedArrays(nums1: List[int], nums2: List[int]) -> float:\n",
    "    print(nums1, nums2)\n",
    "    \n",
    "    l1, l2 = len(nums1), len(nums2)\n",
    "    if l1 > l2:\n",
    "        l1, l2 = l2, l1\n",
    "        nums1, nums2 = nums2, nums1\n",
    "    left, right = 0, l1\n",
    "    \n",
    "    haft = (l1 + l2 + 1) // 2\n",
    "    while 1:\n",
    "        i = (left + right) // 2\n",
    "        j = haft - i\n",
    "        \n",
    "#         print(i, j)\n",
    "        if i > 0 and nums1[i-1] > nums2[j]:\n",
    "#             print(nums1[i-1], nums2[j + 1])\n",
    "            right = i - 1\n",
    "        elif i < l1 and nums1[i] < nums2[j - 1]:\n",
    "#             print(nums1[i], nums2[j - 1])\n",
    "            left = i + 1\n",
    "        else: \n",
    "#             print(i, j)\n",
    "            if i == 0:\n",
    "                left_max = nums2[j - 1]\n",
    "            elif j == 0:\n",
    "                left_max = nums1[i - 1]\n",
    "            else:\n",
    "                left_max = max(nums1[i - 1], nums2[j - 1])\n",
    "            \n",
    "            if (l1 + l2) % 2 == 1:\n",
    "                return left_max\n",
    "            \n",
    "            if i == l1:\n",
    "                right_min = nums2[j]\n",
    "            elif j == l2:\n",
    "                right_min = nums1[i]\n",
    "            else:\n",
    "                right_min = min(nums1[i], nums2[j])\n",
    "                \n",
    "            return (left_max + right_min) / 2"
   ]
  },
  {
   "cell_type": "code",
   "execution_count": 93,
   "metadata": {},
   "outputs": [
    {
     "name": "stdout",
     "output_type": "stream",
     "text": [
      "[1, 3] [2]\n",
      "2\n",
      "[1, 2] [3, 4]\n",
      "2.5\n",
      "[] [1]\n",
      "1\n",
      "[] [2, 3]\n",
      "2.5\n",
      "[1] []\n",
      "1\n",
      "[2, 3] []\n",
      "2.5\n",
      "[3] [-2, -1]\n",
      "-1\n"
     ]
    }
   ],
   "source": [
    "if __name__ == \"__main__\":\n",
    "    print(findMedianSortedArrays([1, 3], [2]))\n",
    "    print(findMedianSortedArrays([1,2], [3,4]))\n",
    "    \n",
    "    print(findMedianSortedArrays([], [1]))\n",
    "    print(findMedianSortedArrays([], [2, 3]))\n",
    "    \n",
    "    print(findMedianSortedArrays([1], []))\n",
    "    print(findMedianSortedArrays([2, 3], []))\n",
    "\n",
    "    print(findMedianSortedArrays([3], [-2, -1]))\n"
   ]
  }
 ],
 "metadata": {
  "celltoolbar": "Raw Cell Format",
  "kernelspec": {
   "display_name": "Python 3",
   "language": "python",
   "name": "python3"
  },
  "language_info": {
   "codemirror_mode": {
    "name": "ipython",
    "version": 3
   },
   "file_extension": ".py",
   "mimetype": "text/x-python",
   "name": "python",
   "nbconvert_exporter": "python",
   "pygments_lexer": "ipython3",
   "version": "3.7.5"
  }
 },
 "nbformat": 4,
 "nbformat_minor": 2
}
