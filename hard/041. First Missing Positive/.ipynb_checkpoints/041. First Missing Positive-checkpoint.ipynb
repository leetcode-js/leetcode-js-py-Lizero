{
 "cells": [
  {
   "cell_type": "code",
   "execution_count": 36,
   "metadata": {},
   "outputs": [],
   "source": [
    "def firstMissingPositive(nums) -> int:\n",
    "    print(nums)\n",
    "    n = len(nums)\n",
    "    for i, j in enumerate(nums):\n",
    "        if j <= 0:\n",
    "            nums[i] = n + 1\n",
    "#     print(nums)\n",
    "    for j in nums:\n",
    "        if 1 <= abs(j) <= n:\n",
    "            nums[abs(j) - 1] = -abs(nums[abs(j) -1])\n",
    "#     print(nums)\n",
    "    for i, j in enumerate(nums):\n",
    "        if j >= 0:\n",
    "            return i + 1\n",
    "    return  n + 1"
   ]
  },
  {
   "cell_type": "code",
   "execution_count": 37,
   "metadata": {},
   "outputs": [
    {
     "name": "stdout",
     "output_type": "stream",
     "text": [
      "[1, 2, 0]\n",
      "True\n",
      "[3, 4, -1, 1]\n",
      "True\n",
      "[7, 8, 9, 11, 12]\n",
      "True\n"
     ]
    }
   ],
   "source": [
    "print(firstMissingPositive([1,2,0]) == 3)\n",
    "print(firstMissingPositive([3,4,-1,1]) == 2)\n",
    "print(firstMissingPositive([7,8,9,11,12]) == 1)\n"
   ]
  }
 ],
 "metadata": {
  "kernelspec": {
   "display_name": "Python 3",
   "language": "python",
   "name": "python3"
  },
  "language_info": {
   "codemirror_mode": {
    "name": "ipython",
    "version": 3
   },
   "file_extension": ".py",
   "mimetype": "text/x-python",
   "name": "python",
   "nbconvert_exporter": "python",
   "pygments_lexer": "ipython3",
   "version": "3.7.5"
  }
 },
 "nbformat": 4,
 "nbformat_minor": 2
}
