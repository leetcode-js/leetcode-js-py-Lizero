{
 "cells": [
  {
   "cell_type": "code",
   "execution_count": 55,
   "metadata": {},
   "outputs": [],
   "source": [
    "def trap(height) -> int:\n",
    "    if len(height) == 1:\n",
    "        return 0\n",
    "    \n",
    "    sum = 0\n",
    "    left = [0, 0]\n",
    "    right = [0, 0]\n",
    "    \n",
    "    for i, j in enumerate(height):\n",
    "        if i == 0:\n",
    "            if j > height[i + 1]:\n",
    "                right = [i, j]\n",
    "        elif i == len(height) - 1:\n",
    "            if height[i - 1] < j:\n",
    "                right = [i, j]\n",
    "        else:\n",
    "            if height[i - 1] <= j and j >= height[i + 1]:\n",
    "                right = [i, j]\n",
    "#         print(left, right)        \n",
    "        if left[1] != 0 and right[1] != 0:\n",
    "#             print(left, right)\n",
    "            if left[1] <= right[1]:\n",
    "                h = left[1]\n",
    "                for i in range(left[0] + 1, right[0]):\n",
    "                    if height[i] < h:\n",
    "                        sum += h - height[i]\n",
    "                    else:\n",
    "                        break\n",
    "            else:\n",
    "                h = right[1]\n",
    "                for i in range(right[0] - 1, left[0], -1):\n",
    "                    if height[i] < h:\n",
    "                        sum += h - height[i]\n",
    "#                         print(sum)\n",
    "                    else:\n",
    "                        break\n",
    "            left, right = right, [0, 0]\n",
    "#             print(sum)\n",
    "        elif left[1] == 0:\n",
    "            left, right = right, [0, 0]\n",
    "    return sum "
   ]
  },
  {
   "cell_type": "code",
   "execution_count": 56,
   "metadata": {},
   "outputs": [
    {
     "name": "stdout",
     "output_type": "stream",
     "text": [
      "True\n",
      "True\n",
      "True\n",
      "True\n"
     ]
    }
   ],
   "source": [
    "print(trap([0,1,0,2,1,0,1,3,2,1,2,1]) == 6)\n",
    "print(trap([0]) == 0)\n",
    "print(trap([2,0,2]) == 2)\n",
    "print(trap([5,4,1,2]) == 1)\n",
    "print(trap([[5,2,1,2,1,5]]) == 14)\n"
   ]
  },
  {
   "cell_type": "code",
   "execution_count": 38,
   "metadata": {},
   "outputs": [
    {
     "name": "stdout",
     "output_type": "stream",
     "text": [
      "[9, 8, 7, 6, 5, 4, 3, 2]\n"
     ]
    }
   ],
   "source": [
    "print(list(range(9, 1, -1)))"
   ]
  }
 ],
 "metadata": {
  "celltoolbar": "Raw Cell Format",
  "kernelspec": {
   "display_name": "Python 3",
   "language": "python",
   "name": "python3"
  },
  "language_info": {
   "codemirror_mode": {
    "name": "ipython",
    "version": 3
   },
   "file_extension": ".py",
   "mimetype": "text/x-python",
   "name": "python",
   "nbconvert_exporter": "python",
   "pygments_lexer": "ipython3",
   "version": "3.7.5"
  }
 },
 "nbformat": 4,
 "nbformat_minor": 2
}
